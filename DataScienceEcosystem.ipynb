{
 "cells": [
  {
   "cell_type": "markdown",
   "id": "7c1aa374-a03d-46dc-9127-9ffecc93e43a",
   "metadata": {},
   "source": [
    "<h2>Author</h2>\n",
    "Paul Hynes"
   ]
  },
  {
   "cell_type": "markdown",
   "id": "c48e40c0-e73b-4b62-9130-7842886a3082",
   "metadata": {},
   "source": [
    "Data Science Tools and Ecosystem"
   ]
  },
  {
   "cell_type": "markdown",
   "id": "ce4c8eba-bdb6-44eb-aa38-60be3a653527",
   "metadata": {},
   "source": [
    "In this notebook, Data Science Tools and Ecosystem are summarized."
   ]
  },
  {
   "cell_type": "markdown",
   "id": "06bb9c5d-df11-466f-ab6e-2cf1468d1886",
   "metadata": {},
   "source": [
    "<b>Objectives:</b>\n",
    "<ul>\n",
    "    <li>List popular languages for Data Science</li>\n",
    "    <li>List popular libraries for Data Science</li>\n",
    "    <li>Show Examples of the Python Programming Language</li>\n",
    "</ul>"
   ]
  },
  {
   "cell_type": "markdown",
   "id": "a434eb98-fc20-455e-b937-d4704389cb08",
   "metadata": {},
   "source": [
    "Some of the popular languages that Data Scientists use are:\n",
    "<ol>\n",
    "    <li>Python</li>\n",
    "    <li>Javascript</li>\n",
    "    <li>Java</li>\n",
    "</ol>"
   ]
  },
  {
   "cell_type": "markdown",
   "id": "672ee146-4f6a-4b1d-80b0-08ac65d5711d",
   "metadata": {},
   "source": [
    "Some of the commonly used libraries used by Data Scientists include:\n",
    "<ol>\n",
    "    <li>Pandas</li>\n",
    "    <li>Numpy</li>\n",
    "    <li>Scikit-learn</li>\n",
    "</ol>"
   ]
  },
  {
   "cell_type": "markdown",
   "id": "38da5874-e38d-4b97-9c66-71c1494aef51",
   "metadata": {},
   "source": [
    "<table>\n",
    "    <tr>\n",
    "        <th>Data Science Tools</th>\n",
    "    </tr>\n",
    "    <tr>\n",
    "        <td>Jupyter Notebooks</td>\n",
    "    </tr>\n",
    "    <tr>\n",
    "        <td>Apache Zeppelin</td>\n",
    "    </tr>\n",
    "    <tr>\n",
    "        <td>R Studio</td>\n",
    "    </tr>\n",
    "</table>"
   ]
  },
  {
   "cell_type": "markdown",
   "id": "c6f22f82-3fd6-4659-a161-dee63fbd0458",
   "metadata": {},
   "source": [
    "<h3>Below are a few examples of evaluating arithmetic expressions in Python</h3>"
   ]
  },
  {
   "cell_type": "code",
   "execution_count": 1,
   "id": "22a02831-aa2f-46c4-9a05-18d5732646cc",
   "metadata": {},
   "outputs": [
    {
     "data": {
      "text/plain": [
       "17"
      ]
     },
     "execution_count": 1,
     "metadata": {},
     "output_type": "execute_result"
    }
   ],
   "source": [
    "#This a simple arithmetic expression to mutiply then add integers\n",
    "(3*4)+5"
   ]
  },
  {
   "cell_type": "code",
   "execution_count": 2,
   "id": "b4ae0df2-3251-4bff-9747-2958a7f78564",
   "metadata": {},
   "outputs": [
    {
     "data": {
      "text/plain": [
       "3.3333333333333335"
      ]
     },
     "execution_count": 2,
     "metadata": {},
     "output_type": "execute_result"
    }
   ],
   "source": [
    "#This will convert 200 minutes to hours by diving by 60\n",
    "200 / 60"
   ]
  },
  {
   "cell_type": "code",
   "execution_count": null,
   "id": "b9378e14-d30a-490f-b55a-6481e9962e77",
   "metadata": {},
   "outputs": [],
   "source": []
  }
 ],
 "metadata": {
  "kernelspec": {
   "display_name": "Python 3 (ipykernel)",
   "language": "python",
   "name": "python3"
  },
  "language_info": {
   "codemirror_mode": {
    "name": "ipython",
    "version": 3
   },
   "file_extension": ".py",
   "mimetype": "text/x-python",
   "name": "python",
   "nbconvert_exporter": "python",
   "pygments_lexer": "ipython3",
   "version": "3.11.2"
  }
 },
 "nbformat": 4,
 "nbformat_minor": 5
}
